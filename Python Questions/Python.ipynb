{
 "cells": [
  {
   "attachments": {},
   "cell_type": "markdown",
   "metadata": {},
   "source": [
    "### **Ques 1. Write a program that takes a string as input, and counts the frequency of each word in the string, there might be repeated characters in the string. Your task is to find the highest frequency and return the length of the highest-frequency word**"
   ]
  },
  {
   "cell_type": "code",
   "execution_count": 1,
   "metadata": {},
   "outputs": [],
   "source": [
    "import string\n",
    "def freq_of_word(given_string):\n",
    "  \n",
    "  spcl_char = \"`~!@#$%^&*()_+-=/{}[]*;:?\\|',<.>\"  #define special char that can appear in a string\n",
    "\n",
    "  new_string = given_string.lower()      \n",
    "\n",
    "  for i in given_string:\n",
    "    if i in spcl_char:\n",
    "      new_string = given_string.translate(str.maketrans('','',string.punctuation)) # new string with no special character\n",
    "      break\n",
    "\n",
    "  words = new_string.split()\n",
    "  count_words = dict()\n",
    "  unique_words = set(words)\n",
    "  for i in unique_words:\n",
    "    count_words[i] = words.count(i)\n",
    "\n",
    "  result =sorted(count_words.items(),key= lambda x:x[1], reverse= True)  # sorting the frequency of accurence of word\n",
    "  # print(result)\n",
    "  return len(result[0][0])\n"
   ]
  },
  {
   "cell_type": "code",
   "execution_count": 3,
   "metadata": {},
   "outputs": [
    {
     "name": "stdout",
     "output_type": "stream",
     "text": [
      "input string :  write write write all the number from from from 1 to 100\n",
      "length of word = 5\n"
     ]
    }
   ],
   "source": [
    "## test case 1\n",
    "# write write write all the number from from from 1 to 100\n",
    "## driver code\n",
    "given_string = input(\"enter any string: \")\n",
    "length = freq_of_word(given_string)\n",
    "print(\"input string : \",given_string)\n",
    "print(f\"length of word = {length}\")\n",
    "\n",
    "# Explanation : most frequent words from given string is write and fromat but corresponding max length is 6"
   ]
  },
  {
   "cell_type": "code",
   "execution_count": 4,
   "metadata": {},
   "outputs": [
    {
     "name": "stdout",
     "output_type": "stream",
     "text": [
      "input string :  write, write' write all] the number fromat{ fromat} fromat 1 to 100\n",
      "length of word = 6\n"
     ]
    }
   ],
   "source": [
    "## test case 2\n",
    "# write, write' write all] the number fromat{ fromat} fromat 1 to 100\n",
    "## driver code\n",
    "given_string = input(\"enter any string: \")\n",
    "length = freq_of_word(given_string)\n",
    "print(\"input string : \",given_string)\n",
    "print(f\"length of word = {length}\")\n",
    "\n",
    "# Explanation : most frequent words from given string is \"write\" and \"fromat\" but string has many special chars too ignoring that, the corresponding max length of frequent word is 6"
   ]
  },
  {
   "cell_type": "code",
   "execution_count": 5,
   "metadata": {},
   "outputs": [
    {
     "name": "stdout",
     "output_type": "stream",
     "text": [
      "input string :  WRITE WRITE WRITE all the number FROMAT fromat fromat 1 to 100\n",
      "length of word = 6\n"
     ]
    }
   ],
   "source": [
    "## test case 3\n",
    "# WRITE WRITE WRITE all the number FROMAT fromat fromat 1 to 100\n",
    "## driver code\n",
    "given_string = input(\"enter any string: \")\n",
    "length = freq_of_word(given_string)\n",
    "print(\"input string : \",given_string)\n",
    "print(f\"length of word = {length}\")\n",
    "\n",
    "# Explanation : most frequent words from given string is \"WRITE\" and \"fromat or FROMAT\" but string is having lower and uppercase both but ignoring that, the corresponding max length of frequent word is 6"
   ]
  },
  {
   "attachments": {},
   "cell_type": "markdown",
   "metadata": {},
   "source": [
    "### **Ques 2. Consider a string to be valid if all characters of the string appear the same number of times. It is also valid if he can remove just one character at the index in the string, and the remaining characters will occur the same number of times. Given a string, determine if it is valid. If so, return YES , otherwise return NO.**"
   ]
  },
  {
   "cell_type": "code",
   "execution_count": 1,
   "metadata": {},
   "outputs": [],
   "source": [
    "def validate(st):\n",
    "  try: \n",
    "    if len(st) == 0 or len(st) == 1:\n",
    "      return \"YES\"\n",
    "    else:\n",
    "      string = st.lower() # if string is in mixed case\n",
    "      d = dict()\n",
    "      for i in string:    # count the occurence of each char\n",
    "        if i in d:\n",
    "          d[i] += 1\n",
    "        else:\n",
    "          d[i] = 1\n",
    "      value = list(d.values()) \n",
    "\n",
    "      print(f\"freq = {d}\")\n",
    "      # print(f\"value list = {value}\")\n",
    "      d1 = {}\n",
    "      for i in value:               # count the occurence of values of each char\n",
    "        if i in d1:\n",
    "          d1[i] += 1\n",
    "        else:\n",
    "          d1[i] = 1\n",
    "\n",
    "      # print(f\"count of values in value list={d1}\")\n",
    "\n",
    "      if len(d1) == 1:\n",
    "        return \"YES\"\n",
    "\n",
    "      if (len(d1) == 2 ):\n",
    "        minfreq = min(d1.keys())\n",
    "        maxfreq = max(d1.keys())\n",
    "        # print(f\"min= {minfreq} and max= {maxfreq}\")\n",
    "        if d1[maxfreq] == 1 and (maxfreq - minfreq) == 1:\n",
    "            return 'YES'\n",
    "        if d1[minfreq] == 1 and minfreq == 1:\n",
    "            return 'YES'\n",
    "    \n",
    "      return \"NO\"\n",
    "    \n",
    "  except Exception as e:\n",
    "    print(\"Exception Occured : \", e)\n",
    "    \n",
    "  "
   ]
  },
  {
   "cell_type": "code",
   "execution_count": 7,
   "metadata": {},
   "outputs": [
    {
     "name": "stdout",
     "output_type": "stream",
     "text": [
      "freq = {'i': 111, 'b': 111, 'f': 111, 'd': 111, 'g': 111, 'a': 111, 'e': 111, 'h': 111, 'c': 111, 'n': 1}\n"
     ]
    },
    {
     "data": {
      "text/plain": [
       "'YES'"
      ]
     },
     "execution_count": 7,
     "metadata": {},
     "output_type": "execute_result"
    }
   ],
   "source": [
    "## test case 1\n",
    "validate(\"ibfdgaeadiaefgbhbdghhhbgdfgeiccbiehhfcggchgghadhdhagfbahhddgghbdehidbibaeaagaeeigffcebfbaieggabcfbiiedcabfihchdfabifahcbhagccbdfifhghcadfiadeeaheeddddiecaicbgigccageicehfdhdgafaddhffadigfhhcaedcedecafeacbdacgfgfeeibgaiffdehigebhhehiaahfidibccdcdagifgaihacihadecgifihbebffebdfbchbgigeccahgihbcbcaggebaaafgfedbfgagfediddghdgbgehhhifhgcedechahidcbchebheihaadbbbiaiccededchdagfhccfdefigfibifabeiaccghcegfbcghaefifbachebaacbhbfgfddeceababbacgffbagidebeadfihaefefegbghgddbbgddeehgfbhafbccidebgehifafgbghafacgfdccgifdcbbbidfifhdaibgigebigaedeaaiadegfefbhacgddhchgcbgcaeaieiegiffchbgbebgbehbbfcebciiagacaiechdigbgbghefcahgbhfibhedaeeiffebdiabcifgccdefabccdghehfibfiifdaicfedagahhdcbhbicdgibgcedieihcichadgchgbdcdagaihebbabhibcihicadgadfcihdheefbhffiageddhgahaidfdhhdbgciiaciegchiiebfbcbhaeagccfhbfhaddagnfieihghfbaggiffbbfbecgaiiidccdceadbbdfgigibgcgchafccdchgifdeieicbaididhfcfdedbhaadedfageigfdehgcdaecaebebebfcieaecfagfdieaefdiedbcadchabhebgehiidfcgahcdhcdhgchhiiheffiifeegcfdgbdeffhgeghdfhbfbifgidcafbfcd\")\n",
    "\n",
    "## Explanation : given string is valid as 'n' is 1 that can be removed so that occurence of other characters are equal."
   ]
  },
  {
   "cell_type": "code",
   "execution_count": 8,
   "metadata": {},
   "outputs": [
    {
     "name": "stdout",
     "output_type": "stream",
     "text": [
      "freq = {'a': 4, 'b': 2, 'c': 2}\n"
     ]
    },
    {
     "data": {
      "text/plain": [
       "'NO'"
      ]
     },
     "execution_count": 8,
     "metadata": {},
     "output_type": "execute_result"
    }
   ],
   "source": [
    "## test case 2\n",
    "validate(\"aaaabbcc\")\n",
    "\n",
    "## Explanation : given string \"aaaabbcc\" is not valid as \"a\" occured 4 times if \"a\" can be removed from 1 index then occurence of other characters are not equal \n",
    "#  {'a': 3, 'b': 2, 'c': 2}."
   ]
  },
  {
   "cell_type": "code",
   "execution_count": 9,
   "metadata": {},
   "outputs": [
    {
     "name": "stdout",
     "output_type": "stream",
     "text": [
      "freq = {'a': 2, 'b': 2, 'c': 1, 'd': 1}\n"
     ]
    },
    {
     "data": {
      "text/plain": [
       "'NO'"
      ]
     },
     "execution_count": 9,
     "metadata": {},
     "output_type": "execute_result"
    }
   ],
   "source": [
    "## test case 3\n",
    "validate(\"aabbcd\")\n",
    "\n",
    "## Explanation : given string \"aabbcd\" is not valid as occurence of char a,b is 2 times and occurence of c,d is 1 times removal of any char from any index will not result into valid string."
   ]
  },
  {
   "cell_type": "code",
   "execution_count": 10,
   "metadata": {},
   "outputs": [
    {
     "name": "stdout",
     "output_type": "stream",
     "text": [
      "freq = {'a': 2, 'b': 2, 'c': 2, 'd': 2, 'e': 2, 'f': 1, 'g': 1, 'h': 1, 'i': 1}\n"
     ]
    },
    {
     "data": {
      "text/plain": [
       "'NO'"
      ]
     },
     "execution_count": 10,
     "metadata": {},
     "output_type": "execute_result"
    }
   ],
   "source": [
    "## test case 4\n",
    "validate(\"aabbccddeefghi\")\n",
    "\n",
    "## Explanation : given string \"aabbccddeefghi\" is not valid as occurence of char a,b,c,d,e is 2 times and occurence of f,g,h,i is 1 times removal of any char from any index will not result into valid string."
   ]
  },
  {
   "cell_type": "code",
   "execution_count": 11,
   "metadata": {},
   "outputs": [
    {
     "name": "stdout",
     "output_type": "stream",
     "text": [
      "freq = {'a': 1, 'b': 1, 'c': 1}\n"
     ]
    },
    {
     "data": {
      "text/plain": [
       "'YES'"
      ]
     },
     "execution_count": 11,
     "metadata": {},
     "output_type": "execute_result"
    }
   ],
   "source": [
    "## test case 5\n",
    "validate(\"abc\")\n",
    "\n",
    "## Explanation : given string 'abc' is valid as each character occurence are equal."
   ]
  },
  {
   "cell_type": "code",
   "execution_count": 12,
   "metadata": {},
   "outputs": [
    {
     "data": {
      "text/plain": [
       "'YES'"
      ]
     },
     "execution_count": 12,
     "metadata": {},
     "output_type": "execute_result"
    }
   ],
   "source": [
    "## test case 6\n",
    "validate(\"a\")\n",
    "\n",
    "## Explanation : given string 'a' is valid one character one time appeared in string."
   ]
  },
  {
   "attachments": {},
   "cell_type": "markdown",
   "metadata": {},
   "source": [
    "### **Ques 3. Write a program, which would download the data from the provided link, and then read the data and convert that into properly structured data and return it in Excel format.**\n",
    "\n",
    "Link -  https://raw.githubusercontent.com/Biuni/PokemonGO-Pokedex/master/pokedex.json\n",
    "\n",
    "- id: Identification Number\n",
    "- num: Number of the Pokémon in the official Pokédex\n",
    "- name: Pokémon name\n",
    "- img: URL to an image of this Pokémon\n",
    "- type: Pokémon type\n",
    "- height: Pokémon height\n",
    "- weight: Pokémon weight\n",
    "- candy: type of candy used to evolve Pokémon or given when transfered\n",
    "- candy_count: amount of candies required to evolve\n",
    "- egg: Number of kilometers to travel to hatch the egg\n",
    "- spawn_chance: Percentage of spawn chance (NEW)\n",
    "- avg_spawns: Number of this pokemon on 10.000 spawns (NEW)\n",
    "- spawn_time: Spawns most active at the time on this field. Spawn times are the - same for all time zones and are expressed in local time. (NEW)\n",
    "- multipliers: Multipler of Combat Power (CP) for calculating the CP after - - - evolution See below\n",
    "- weakness: Types of Pokémon this Pokémon is weak to\n",
    "- next_evolution: Number and Name of successive evolutions of Pokémon\n",
    "- prev_evolution: Number and Name of previous evolutions of Pokémon"
   ]
  },
  {
   "cell_type": "code",
   "execution_count": null,
   "metadata": {},
   "outputs": [],
   "source": [
    "import json\n",
    "import csv\n",
    "from collections import OrderedDict\n",
    " \n",
    "with open(\"pokemon.json\") as json_file:\n",
    "    data = json.load(json_file)\n",
    " \n",
    "pokemons = data[\"pokemon\"]\n",
    " \n",
    "data_file = open('pokemon.csv', 'w')\n",
    " \n",
    "csv_writer = csv.writer(data_file)\n",
    " \n",
    "count = 0\n",
    "od = OrderedDict()\n",
    " \n",
    "for poke in pokemons:\n",
    "    if count == 0:\n",
    "        header = ['id', 'num', 'name', 'img', 'type', 'height', 'weight', 'candy', 'candy_count', 'egg', \n",
    "                  'spawn_chance', 'avg_spawns', 'spawn_time', 'multipliers', 'weaknesses', 'prev_evolution', 'next_evolution']\n",
    "        csv_writer.writerow(header)\n",
    "        count += 1\n",
    "\n",
    "    new = poke\n",
    "\n",
    "    for val in header:\n",
    "        if val not in poke.keys():\n",
    "            new[val] = \"None\"\n",
    "            od[val] = new[val]\n",
    "        else:\n",
    "            od[val] = new[val]\n",
    "    print(od)\n",
    "    csv_writer.writerow(od.values())\n",
    " \n",
    "data_file.close()"
   ]
  },
  {
   "attachments": {},
   "cell_type": "markdown",
   "metadata": {},
   "source": [
    "### **Ques 6 - Using the data from Question 3, write code to analyze the data and answer the following questions**                      \n",
    "Note -->\n",
    "1. Draw plots to demonstrate the analysis for the following questions for better visualizations.\n",
    "2. Write code comments wherever required for code understanding\n",
    "\n",
    "Insights to be drawn -                                              \n",
    "1. Get all Pokemons whose spawn rate is less than 5%                                             \n",
    "2.  Get all Pokemons that have less than 4 weaknesses\n",
    "3.  Get all Pokemons that have no multipliers at all\n",
    "4.  Get all Pokemons that do not have more than 2 evolutions\n",
    "5.  Get all Pokemons whose spawn time is less than 300 seconds.                                                 \n",
    "Note - spawn time format is \"05:32”, so assume “minute: second” format and perform the analysis.\n",
    "6.  Get all Pokemon who have more than two types of capabilities"
   ]
  },
  {
   "cell_type": "code",
   "execution_count": 2,
   "metadata": {},
   "outputs": [],
   "source": [
    "import pandas as pd\n",
    "import seaborn as sns\n",
    "import matplotlib.pyplot as plt"
   ]
  },
  {
   "cell_type": "code",
   "execution_count": null,
   "metadata": {},
   "outputs": [],
   "source": [
    "df = pd.read_csv('pokemon.csv')\n",
    "df.head()"
   ]
  },
  {
   "cell_type": "code",
   "execution_count": null,
   "metadata": {},
   "outputs": [],
   "source": [
    "### task 1   -- Get all Pokemons whose spawn rate is less than 5%\n",
    "\n",
    "df1 = df[df['spawn_chance'] < 0.05]\n",
    "plt.figure(figsize=(20,10))\n",
    "# rate = df['spawn_chance']\n",
    "sns.barplot(data= df1, x='name',y='spawn_chance' )\n",
    "plt.xlabel(\"Name of Pokemons\")\n",
    "plt.ylabel(\"Pokemons with spawn rate less than 5%\")\n",
    "plt.xticks(rotation = 90)\n",
    "plt.show()"
   ]
  },
  {
   "cell_type": "code",
   "execution_count": null,
   "metadata": {},
   "outputs": [],
   "source": [
    "## tesk 2 -- Get all Pokemons that have less than 4 weaknesses\n",
    "\n",
    "# Pandas will read lists as strings, not as lists.\n",
    "# to convert the type of list form str to list\n",
    "\n",
    "df['weaknesses'] = df['weaknesses'].apply(eval)\n",
    "\n",
    "## creating a new column that has length of weaknesses col \n",
    "\n",
    "df['weaknesses_length'] = df['weaknesses'].apply(lambda x : eval(x))\n",
    "\n",
    "## checking that type has been converted to list or not\n",
    "\n",
    "x  = 0\n",
    "for i, l in enumerate(df['weaknesses']):\n",
    "    if x == 10:\n",
    "        break\n",
    "    else:\n",
    "        print(\"list\",i,\"is\",type(l))\n",
    "        x+=1\n",
    "\n",
    "\n",
    "df2 = df[df['weaknesses_length'] < 4]\n",
    "plt.figure(figsize=(20,10))\n",
    "sns.barplot(data= df2, x='name', y='weaknesses_length')\n",
    "# plt.ylim(0,4)\n",
    "plt.xticks(rotation = 90)\n",
    "plt.xlabel(\"Name of Pokemons\")\n",
    "plt.ylabel(\"weaknesses of pokemons\")\n",
    "plt.show()"
   ]
  },
  {
   "cell_type": "code",
   "execution_count": null,
   "metadata": {},
   "outputs": [],
   "source": [
    "## task 3 -- Get all Pokemons that have no multipliers at all\n",
    "df['multipliers'] = df['multipliers'].fillna(\"None\")\n",
    "df['multipliers'] = df['multipliers'].replace(\"None\",0)\n",
    "\n",
    "import numpy as np\n",
    "\n",
    "plt.figure(figsize=(20,10))\n",
    "\n",
    "sns.scatterplot(data= df[df['multipliers'] == 0],y ='multipliers', x=\"name\" )\n",
    "plt.xlabel(\"Name of Pokemons\")\n",
    "plt.ylabel(\"Pokemons have no multipliers\")\n",
    "plt.xticks(rotation = 90)\n",
    "plt.show()"
   ]
  },
  {
   "cell_type": "code",
   "execution_count": null,
   "metadata": {},
   "outputs": [],
   "source": [
    "### task 4 -- Get all Pokemons that do not have more than 2 evolutions\n",
    "df['next_evolution'] = df['next_evolution'].apply(eval)\n",
    "\n",
    "df['next_evolution_len'] = df['next_evolution'].apply(lambda x : len(x) if type(x) == list else 0 )\n",
    "\n",
    "\n",
    "plt.figure(figsize=(10,20))\n",
    "\n",
    "sns.scatterplot(data= df[df['next_evolution_len'] <= 2],x ='next_evolution_len', y =\"name\" )\n",
    "plt.xlabel(\"Name of Pokemons\")\n",
    "plt.ylabel(\"Pokemons evolution not more than 2\")\n",
    "plt.xticks(rotation = 90)\n",
    "plt.show()"
   ]
  },
  {
   "cell_type": "code",
   "execution_count": null,
   "metadata": {},
   "outputs": [],
   "source": [
    "# ## task 5 Get all Pokemons whose spawn time is less than 300 seconds.\n",
    "\n",
    "\n",
    "time_format = \"%H:%M:%S\"\n",
    "df['spawn_time'] = df['spawn_time'].fillna(\"00:00\")\n",
    "df['spawn_time']=df['spawn_time'].apply(lambda x :  str(\"00:\")+str(x) )\n",
    "\n",
    "df['spawn_time'] = pd.to_datetime(df['spawn_time'], format=time_format)\n",
    "\n",
    "df['spawn_time_second'] = df['spawn_time'].apply(lambda x : ((x.minute * 60)+ x.second))\n",
    "\n",
    "plt.figure(figsize=(20,10))\n",
    "\n",
    "sns.barplot(data= df[df['spawn_time_second'] < 300],y ='spawn_time_second', x=\"name\" )\n",
    "plt.xlabel(\"Name of Pokemons\")\n",
    "plt.ylabel(\"Pokemons have spawn time less than 300 sec\")\n",
    "plt.xticks(rotation = 90)\n",
    "plt.show()"
   ]
  },
  {
   "cell_type": "code",
   "execution_count": null,
   "metadata": {},
   "outputs": [],
   "source": [
    "## task 6 -- Get all Pokemon who have more than two types of capabilities\n",
    "\n",
    "# observation = NO POKEMONS HAVE MORE THAN TWO CAPABILITIES SO iM PLOTTING GRAPH FOR GREATER THAN 1 CAPABILITIES\n",
    "\n",
    "df['type'] = df['type'].apply(eval)\n",
    "\n",
    "# x = 0\n",
    "# for i, val in enumerate(df['type']):\n",
    "#     if x == 10:\n",
    "#         break\n",
    "#     else:\n",
    "#         print(f\"{i}th value is of type {type(val)}\")\n",
    "#         x += 1\n",
    "\n",
    "df['type_len'] = df['type'].apply(lambda x : len(x) )\n",
    "\n",
    "plt.figure(figsize=(10,10))\n",
    "\n",
    "sns.scatterplot(data= df[df['type_len'] > 1],y ='type_len', x=\"name\" )\n",
    "plt.xlabel(\"Name of Pokemons\")\n",
    "plt.ylabel(\"Pokemons of more than 2 types\")\n",
    "plt.xticks(rotation = 90)\n",
    "plt.show()\n"
   ]
  },
  {
   "cell_type": "code",
   "execution_count": null,
   "metadata": {},
   "outputs": [],
   "source": []
  }
 ],
 "metadata": {
  "kernelspec": {
   "display_name": "base",
   "language": "python",
   "name": "python3"
  },
  "language_info": {
   "codemirror_mode": {
    "name": "ipython",
    "version": 3
   },
   "file_extension": ".py",
   "mimetype": "text/x-python",
   "name": "python",
   "nbconvert_exporter": "python",
   "pygments_lexer": "ipython3",
   "version": "3.9.13"
  },
  "orig_nbformat": 4
 },
 "nbformat": 4,
 "nbformat_minor": 2
}
